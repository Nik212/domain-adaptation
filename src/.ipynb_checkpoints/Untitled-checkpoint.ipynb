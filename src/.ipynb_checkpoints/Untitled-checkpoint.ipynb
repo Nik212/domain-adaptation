{
 "cells": [
  {
   "cell_type": "code",
   "execution_count": 2,
   "id": "36fa24f4-7e70-46e9-8ca5-c29faa773810",
   "metadata": {},
   "outputs": [],
   "source": [
    "from expertsTraining.ft_transformer import FTTransformer"
   ]
  },
  {
   "cell_type": "code",
   "execution_count": 5,
   "id": "028ee873-2a98-4436-9a09-fc166af39fa1",
   "metadata": {},
   "outputs": [
    {
     "name": "stdout",
     "output_type": "stream",
     "text": [
      "self.category_embeddings.weight.shape=torch.Size([8, 192])\n"
     ]
    }
   ],
   "source": [
    "mod = FTTransformer(119,\n",
    "        [2,2,2,2],\n",
    "        True,\n",
    "        # transformer\n",
    "        3,\n",
    "        192,\n",
    "        8,\n",
    "        'reglu',\n",
    "        1.333,\n",
    "        0.0,\n",
    "        0.0,\n",
    "        0.0,\n",
    "        True,\n",
    "        'kaiming',\n",
    "        # linformer\n",
    "        None,\n",
    "        None,\n",
    "        #\n",
    "        1)"
   ]
  },
  {
   "cell_type": "code",
   "execution_count": 6,
   "id": "a479d45c-188b-49dd-9985-b45b23e88aa1",
   "metadata": {},
   "outputs": [
    {
     "data": {
      "text/plain": [
       "FTTransformer(\n",
       "  (tokenizer): Tokenizer(\n",
       "    (category_embeddings): Embedding(8, 192)\n",
       "  )\n",
       "  (layers): ModuleList(\n",
       "    (0): ModuleDict(\n",
       "      (attention): MultiheadAttention(\n",
       "        (W_q): Linear(in_features=192, out_features=192, bias=True)\n",
       "        (W_k): Linear(in_features=192, out_features=192, bias=True)\n",
       "        (W_v): Linear(in_features=192, out_features=192, bias=True)\n",
       "        (W_out): Linear(in_features=192, out_features=192, bias=True)\n",
       "      )\n",
       "      (linear0): Linear(in_features=192, out_features=510, bias=True)\n",
       "      (linear1): Linear(in_features=255, out_features=192, bias=True)\n",
       "      (norm1): LayerNorm((192,), eps=1e-05, elementwise_affine=True)\n",
       "    )\n",
       "    (1): ModuleDict(\n",
       "      (attention): MultiheadAttention(\n",
       "        (W_q): Linear(in_features=192, out_features=192, bias=True)\n",
       "        (W_k): Linear(in_features=192, out_features=192, bias=True)\n",
       "        (W_v): Linear(in_features=192, out_features=192, bias=True)\n",
       "        (W_out): Linear(in_features=192, out_features=192, bias=True)\n",
       "      )\n",
       "      (linear0): Linear(in_features=192, out_features=510, bias=True)\n",
       "      (linear1): Linear(in_features=255, out_features=192, bias=True)\n",
       "      (norm1): LayerNorm((192,), eps=1e-05, elementwise_affine=True)\n",
       "      (norm0): LayerNorm((192,), eps=1e-05, elementwise_affine=True)\n",
       "    )\n",
       "    (2): ModuleDict(\n",
       "      (attention): MultiheadAttention(\n",
       "        (W_q): Linear(in_features=192, out_features=192, bias=True)\n",
       "        (W_k): Linear(in_features=192, out_features=192, bias=True)\n",
       "        (W_v): Linear(in_features=192, out_features=192, bias=True)\n",
       "        (W_out): Linear(in_features=192, out_features=192, bias=True)\n",
       "      )\n",
       "      (linear0): Linear(in_features=192, out_features=510, bias=True)\n",
       "      (linear1): Linear(in_features=255, out_features=192, bias=True)\n",
       "      (norm1): LayerNorm((192,), eps=1e-05, elementwise_affine=True)\n",
       "      (norm0): LayerNorm((192,), eps=1e-05, elementwise_affine=True)\n",
       "    )\n",
       "  )\n",
       "  (activation): ReGLU()\n",
       "  (last_normalization): LayerNorm((192,), eps=1e-05, elementwise_affine=True)\n",
       "  (head): Linear(in_features=192, out_features=1, bias=True)\n",
       ")"
      ]
     },
     "execution_count": 6,
     "metadata": {},
     "output_type": "execute_result"
    }
   ],
   "source": [
    "mod"
   ]
  },
  {
   "cell_type": "code",
   "execution_count": 11,
   "id": "b9f679a2-b7e9-4edd-ae11-8cb8d5053b84",
   "metadata": {},
   "outputs": [],
   "source": [
    "import torch.nn as nn\n",
    "model = nn.ModuleList(list(mod.children())[:-1])"
   ]
  },
  {
   "cell_type": "code",
   "execution_count": 12,
   "id": "ba4443d1-2e74-47e1-a307-2ddfe0a6695c",
   "metadata": {},
   "outputs": [
    {
     "ename": "AttributeError",
     "evalue": "'ModuleList' object has no attribute 'tokenizer'",
     "output_type": "error",
     "traceback": [
      "\u001b[0;31m---------------------------------------------------------------------------\u001b[0m",
      "\u001b[0;31mAttributeError\u001b[0m                            Traceback (most recent call last)",
      "Input \u001b[0;32mIn [12]\u001b[0m, in \u001b[0;36m<cell line: 1>\u001b[0;34m()\u001b[0m\n\u001b[0;32m----> 1\u001b[0m \u001b[43mmodel\u001b[49m\u001b[38;5;241;43m.\u001b[39;49m\u001b[43mtokenizer\u001b[49m\n",
      "File \u001b[0;32m~/anaconda3/lib/python3.8/site-packages/torch/nn/modules/module.py:1207\u001b[0m, in \u001b[0;36mModule.__getattr__\u001b[0;34m(self, name)\u001b[0m\n\u001b[1;32m   1205\u001b[0m     \u001b[38;5;28;01mif\u001b[39;00m name \u001b[38;5;129;01min\u001b[39;00m modules:\n\u001b[1;32m   1206\u001b[0m         \u001b[38;5;28;01mreturn\u001b[39;00m modules[name]\n\u001b[0;32m-> 1207\u001b[0m \u001b[38;5;28;01mraise\u001b[39;00m \u001b[38;5;167;01mAttributeError\u001b[39;00m(\u001b[38;5;124m\"\u001b[39m\u001b[38;5;124m'\u001b[39m\u001b[38;5;132;01m{}\u001b[39;00m\u001b[38;5;124m'\u001b[39m\u001b[38;5;124m object has no attribute \u001b[39m\u001b[38;5;124m'\u001b[39m\u001b[38;5;132;01m{}\u001b[39;00m\u001b[38;5;124m'\u001b[39m\u001b[38;5;124m\"\u001b[39m\u001b[38;5;241m.\u001b[39mformat(\n\u001b[1;32m   1208\u001b[0m     \u001b[38;5;28mtype\u001b[39m(\u001b[38;5;28mself\u001b[39m)\u001b[38;5;241m.\u001b[39m\u001b[38;5;18m__name__\u001b[39m, name))\n",
      "\u001b[0;31mAttributeError\u001b[0m: 'ModuleList' object has no attribute 'tokenizer'"
     ]
    }
   ],
   "source": [
    "model.tokenizer"
   ]
  },
  {
   "cell_type": "code",
   "execution_count": null,
   "id": "a09bedb2-b9ec-475b-8634-799d19a50c27",
   "metadata": {},
   "outputs": [],
   "source": []
  }
 ],
 "metadata": {
  "kernelspec": {
   "display_name": "Python 3 (ipykernel)",
   "language": "python",
   "name": "python3"
  },
  "language_info": {
   "codemirror_mode": {
    "name": "ipython",
    "version": 3
   },
   "file_extension": ".py",
   "mimetype": "text/x-python",
   "name": "python",
   "nbconvert_exporter": "python",
   "pygments_lexer": "ipython3",
   "version": "3.8.8"
  }
 },
 "nbformat": 4,
 "nbformat_minor": 5
}
