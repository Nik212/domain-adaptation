{
 "cells": [
  {
   "cell_type": "markdown",
   "metadata": {},
   "source": [
    "# Prepare source domain dataloaders and experts"
   ]
  },
  {
   "cell_type": "code",
   "execution_count": 1,
   "metadata": {},
   "outputs": [],
   "source": [
    "# Add to path\n",
    "import sys\n",
    "import pandas as pd\n",
    "import torch\n",
    "from torch import nn\n",
    "import numpy as np\n",
    "from torch import optim\n",
    "import tqdm\n",
    "LOAD_EXPERTS = True\n",
    "DEVICE = 'cpu'\n",
    "\n",
    "sys.path.append('../shifts/weather/')"
   ]
  },
  {
   "cell_type": "code",
   "execution_count": 2,
   "metadata": {},
   "outputs": [],
   "source": [
    "\n",
    "\n",
    "df_train = pd.read_csv('canonical-paritioned-dataset/shifts_canonical_train.csv')\n",
    "df_dev_in = pd.read_csv('canonical-paritioned-dataset/shifts_canonical_dev_in.csv')\n",
    "df_dev_out = pd.read_csv('canonical-paritioned-dataset/shifts_canonical_dev_out.csv')\n",
    "df_dev = pd.concat([df_dev_in, df_dev_out])\n",
    "\n",
    "domains_train = df_train.climate.unique()"
   ]
  },
  {
   "cell_type": "code",
   "execution_count": 4,
   "metadata": {},
   "outputs": [
    {
     "data": {
      "text/plain": [
       "array(['dry', 'mild temperate', 'tropical'], dtype=object)"
      ]
     },
     "execution_count": 4,
     "metadata": {},
     "output_type": "execute_result"
    }
   ],
   "source": [
    "df_train.climate.unique()"
   ]
  },
  {
   "cell_type": "code",
   "execution_count": 3,
   "metadata": {},
   "outputs": [],
   "source": [
    " categorical_cols = [\n",
    "                  'cmc_available',\n",
    "                  'gfs_available',\n",
    "                  'gfs_soil_temperature_available',\n",
    "                  'wrf_available'\n",
    "            ]"
   ]
  },
  {
   "cell_type": "code",
   "execution_count": 10,
   "metadata": {},
   "outputs": [
    {
     "data": {
      "text/plain": [
       "True"
      ]
     },
     "execution_count": 10,
     "metadata": {},
     "output_type": "execute_result"
    }
   ],
   "source": [
    "df_train.isnull().any().any()"
   ]
  },
  {
   "cell_type": "code",
   "execution_count": 6,
   "metadata": {},
   "outputs": [
    {
     "data": {
      "text/plain": [
       "True"
      ]
     },
     "execution_count": 6,
     "metadata": {},
     "output_type": "execute_result"
    }
   ],
   "source": [
    "d = df_train[df_train.climate == 'dry'].iloc[:,6:].copy()\n",
    "d.drop(labels=categorical_cols, axis=1).isnull().any().any()"
   ]
  },
  {
   "cell_type": "code",
   "execution_count": 7,
   "metadata": {},
   "outputs": [],
   "source": [
    "import torch\n",
    "\n",
    "class Dataset(torch.utils.data.Dataset):\n",
    "    def __init__(self, df, climate):\n",
    "        if climate is not None:\n",
    "            self.X_source_domain = df[df.climate == climate].iloc[:,6:].copy()\n",
    "            self.y_source_domain = df[df.climate == climate]['fact_temperature'].copy()\n",
    "            self.climate = climate\n",
    "        else:\n",
    "            self.X_source_domain = df.iloc[:,6:].copy()\n",
    "            self.y_source_domain = df['fact_temperature'].copy()\n",
    "            self.climate = climate\n",
    "\n",
    "        assert len(self.X_source_domain) == len(self.y_source_domain)\n",
    "\n",
    "    def __len__(self):\n",
    "        return len(self.y_source_domain)\n",
    "\n",
    "    def __getitem__(self, index):\n",
    "        X = torch.tensor(self.X_source_domain.iloc[index].values)\n",
    "        y = torch.tensor(self.y_source_domain.iloc[index])\n",
    "        metadata = {\n",
    "            'cat_cols': [\n",
    "                  'cmc_available',\n",
    "                  'gfs_available',\n",
    "                  'gfs_soil_temperature_available',\n",
    "                  'wrf_available'\n",
    "            ]\n",
    "        }\n",
    "        return X, y, metadata"
   ]
  },
  {
   "cell_type": "markdown",
   "metadata": {},
   "source": [
    "### Create source domain loaders"
   ]
  },
  {
   "cell_type": "code",
   "execution_count": 8,
   "metadata": {},
   "outputs": [],
   "source": [
    "batch_size = 64\n",
    "source_train_domains_loaders =  {\n",
    "    climate: torch.utils.data.DataLoader(Dataset(df_train, climate), batch_size = batch_size)\n",
    "    for climate in domains_train\n",
    "}\n",
    "val_loader = torch.utils.data.DataLoader(Dataset(df_dev, climate=None), batch_size = batch_size)"
   ]
  },
  {
   "cell_type": "markdown",
   "metadata": {},
   "source": [
    "### Train or Load experts"
   ]
  },
  {
   "cell_type": "code",
   "execution_count": 9,
   "metadata": {},
   "outputs": [],
   "source": [
    "source_domains_experts = {}\n",
    "def initializeExperts():\n",
    "\n",
    "    model = nn.Sequential(nn.Linear(123, 1)).to(DEVICE)\n",
    "\n",
    "    for climate in domains_train:\n",
    "        source_domains_experts[climate] = model\n",
    "initializeExperts()"
   ]
  },
  {
   "cell_type": "code",
   "execution_count": 10,
   "metadata": {},
   "outputs": [],
   "source": [
    "experts_train_config = {\n",
    "    'epochs': 100,\n",
    "    'lr': 0.005,\n",
    "    'l2': 0, \n",
    "    'decayRate': 0.96\n",
    "}"
   ]
  },
  {
   "cell_type": "code",
   "execution_count": 11,
   "metadata": {},
   "outputs": [],
   "source": [
    "for climate, model in source_domains_experts.items():\n",
    "    break"
   ]
  },
  {
   "cell_type": "code",
   "execution_count": 12,
   "metadata": {},
   "outputs": [],
   "source": [
    "\n",
    "def get_single_expert_prediction(batch, expert):\n",
    "    return expert.forward(batch)\n",
    "\n",
    "def get_all_experts_predictions(batch, domain, experts, ):\n",
    "    all_preds = []\n",
    "    for climate, expert in experts.items():\n",
    "        raise NotImplementedError\n",
    "        all_preds.append(preds)\n",
    "    return torch.stack(all_preds, axis=0)"
   ]
  },
  {
   "cell_type": "code",
   "execution_count": 13,
   "metadata": {},
   "outputs": [],
   "source": [
    "def get_validation_metrics(model, data_loader, domain=None):\n",
    "    raise NotImplementedError"
   ]
  },
  {
   "cell_type": "code",
   "execution_count": 14,
   "metadata": {},
   "outputs": [],
   "source": [
    "def train_expert(model, train_loader, val_loader, experts_train_config = experts_train_config, domain=None):\n",
    "    \n",
    "    criterion = nn.MSELoss()\n",
    "    optimizer = optim.Adam(model.parameters(), lr=experts_train_config['lr'], weight_decay=experts_train_config['l2'])\n",
    "    scheduler = optim.lr_scheduler.ExponentialLR(optimizer=optimizer, gamma=experts_train_config['decayRate'])\n",
    "    \n",
    "    i = 0\n",
    "    \n",
    "    losses = []\n",
    "    acc_best = 0\n",
    "\n",
    "    tot = len(train_loader)\n",
    "    \n",
    "    for epoch in range(experts_train_config['epochs']):\n",
    "        \n",
    "        print(f\"Epoch:{epoch} || Total:{tot}\")\n",
    "        \n",
    "        for X, y_true, metadata in iter(train_loader):\n",
    "            model.train()\n",
    "            \n",
    "            X = X.to(torch.float32).to(DEVICE)\n",
    "            y_true = y_true.to(DEVICE)\n",
    "            \n",
    "            pred = model(X)\n",
    "\n",
    "            loss = criterion(pred, y_true)\n",
    "            loss.backward()\n",
    "            optimizer.step()\n",
    "            optimizer.zero_grad()\n",
    "            losses.append(loss.item()/batch_size)\n",
    "            \n",
    "            if i % (tot//2) == 0 and i != 0:\n",
    "                losses = np.mean(losses)\n",
    "                #acc, worst_acc = get_validation_metrics(model, val_loader, grouper, device=device, dataset=dataset)\n",
    "                \n",
    "                print(\"Iter: {} || Loss: {:.4f} \".format(i,losses))\n",
    "                losses = []\n",
    "                \n",
    "                #if worst_acc > acc_best and save:\n",
    "                #    print(\"Saving model ...\")\n",
    "                #    save_model(model, model_name+\"_exp\", 0, test_way=test_way)\n",
    "                #    acc_best = worst_acc\n",
    "                \n",
    "            i += 1\n",
    "        scheduler.step()"
   ]
  },
  {
   "cell_type": "code",
   "execution_count": 15,
   "metadata": {},
   "outputs": [],
   "source": [
    "def load_expert(model):\n",
    "    raise NotImplementedError"
   ]
  },
  {
   "cell_type": "code",
   "execution_count": 9,
   "metadata": {},
   "outputs": [],
   "source": [
    "\n",
    "if LOAD_EXPERTS:\n",
    "    print('Loading experts...')\n",
    "    dir_path = 'trained_experts'\n",
    "    source_domains_experts = {}\n",
    "    for climate in domains_train:\n",
    "        load_expert(source_domains_experts[climate])\n",
    "else:\n",
    "    print('Training experts...')\n",
    "    print(experts_train_config)\n",
    "\n",
    "    for climate in domains_train:\n",
    "        train_loader = source_train_domains_loaders[climate]\n",
    "        train_expert(source_domains_experts[climate], train_loader, val_loader)\n",
    "        "
   ]
  }
 ],
 "metadata": {
  "kernelspec": {
   "display_name": "Python 3 (ipykernel)",
   "language": "python",
   "name": "python3"
  },
  "language_info": {
   "codemirror_mode": {
    "name": "ipython",
    "version": 3
   },
   "file_extension": ".py",
   "mimetype": "text/x-python",
   "name": "python",
   "nbconvert_exporter": "python",
   "pygments_lexer": "ipython3",
   "version": "3.8.8"
  },
  "vscode": {
   "interpreter": {
    "hash": "e3f43fd401cdc46c7579e2b5a1ac9f12820ab8bd56f17154833f004e8ad52f07"
   }
  }
 },
 "nbformat": 4,
 "nbformat_minor": 4
}
