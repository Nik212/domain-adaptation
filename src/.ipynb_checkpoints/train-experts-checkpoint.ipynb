{
 "cells": [
  {
   "attachments": {},
   "cell_type": "markdown",
   "metadata": {},
   "source": [
    "# Prepare source domain dataloaders"
   ]
  },
  {
   "cell_type": "code",
   "execution_count": 1,
   "metadata": {},
   "outputs": [],
   "source": [
    "# Add to path\n",
    "import sys\n",
    "import pandas as pd\n",
    "sys.path.append('../shifts/weather/')\n",
    "\n",
    "\n",
    "df_train = pd.read_csv('/Users/nikglukhov/n.glukhov/canonical-paritioned-dataset/shifts_canonical_train.csv')\n",
    "df_dev_in = pd.read_csv('/Users/nikglukhov/n.glukhov/canonical-paritioned-dataset/shifts_canonical_dev_in.csv')\n",
    "df_dev_out = pd.read_csv('/Users/nikglukhov/n.glukhov/canonical-paritioned-dataset/shifts_canonical_dev_out.csv')"
   ]
  },
  {
   "cell_type": "code",
   "execution_count": 2,
   "metadata": {},
   "outputs": [],
   "source": [
    "domains_train = df_train.climate.unique()\n",
    "domains_in = df_dev_in.climate.unique()\n",
    "domains_out = df_dev_out.climate.unique()"
   ]
  },
  {
   "cell_type": "code",
   "execution_count": 3,
   "metadata": {},
   "outputs": [],
   "source": [
    "import torch\n",
    "\n",
    "class Dataset(torch.utils.data.Dataset):\n",
    "  def __init__(self, df, climate):\n",
    "        self.X_source_domain = df[df.climate == climate].iloc[:,6:].copy()\n",
    "        self.y_source_domain = df[df.climate == climate]['fact_temperature'].copy()\n",
    "        self.climate = climate\n",
    "\n",
    "        assert len(self.X_source_domain) == len(self.y_source_domain)\n",
    "\n",
    "  def __len__(self):\n",
    "        return len(self.y_source_domain)\n",
    "\n",
    "  def __getitem__(self, index):\n",
    "        X = torch.tensor(self.X_source_domain.iloc[index].values)\n",
    "        y = torch.tensor(self.y_source_domain.iloc[index])\n",
    "        return X, y"
   ]
  },
  {
   "attachments": {},
   "cell_type": "markdown",
   "metadata": {},
   "source": [
    "### Create source domain loaders"
   ]
  },
  {
   "cell_type": "code",
   "execution_count": 4,
   "metadata": {},
   "outputs": [],
   "source": [
    "batch_size = 64\n",
    "source_domains_loaders =  {\n",
    "    climate: torch.utils.data.DataLoader(Dataset(df_train, climate), batch_size = batch_size)\n",
    "    for climate in domains_train\n",
    "}"
   ]
  },
  {
   "attachments": {},
   "cell_type": "markdown",
   "metadata": {},
   "source": [
    "### Load experts"
   ]
  },
  {
   "cell_type": "code",
   "execution_count": 5,
   "metadata": {},
   "outputs": [],
   "source": [
    "import catboost"
   ]
  },
  {
   "cell_type": "code",
   "execution_count": 9,
   "metadata": {},
   "outputs": [],
   "source": [
    "dir_path = 'trained_experts'\n",
    "source_domains_experts = {}\n",
    "for climate in domains_train:\n",
    "    model = catboost.CatBoostRegressor()\n",
    "    model.load_model(f'{dir_path}/model_{climate}')\n",
    "    source_domains_experts[climate] = model"
   ]
  }
 ],
 "metadata": {
  "kernelspec": {
   "display_name": "general",
   "language": "python",
   "name": "python3"
  },
  "language_info": {
   "codemirror_mode": {
    "name": "ipython",
    "version": 3
   },
   "file_extension": ".py",
   "mimetype": "text/x-python",
   "name": "python",
   "nbconvert_exporter": "python",
   "pygments_lexer": "ipython3",
   "version": "3.9.13 (main, Oct 13 2022, 16:12:19) \n[Clang 12.0.0 ]"
  },
  "orig_nbformat": 4,
  "vscode": {
   "interpreter": {
    "hash": "e3f43fd401cdc46c7579e2b5a1ac9f12820ab8bd56f17154833f004e8ad52f07"
   }
  }
 },
 "nbformat": 4,
 "nbformat_minor": 2
}
